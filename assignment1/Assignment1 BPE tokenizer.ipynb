{
  "cells": [
    {
      "cell_type": "markdown",
      "metadata": {
        "id": "RKboZnAdgrRM"
      },
      "source": [
        "# [NLP] Assignment 1: Tokenization\n",
        "\n",
        "In this assignment, you need to tokenize the text of the Twitter(X) users posts(tweets). The assignment consists of two tasks. When you finish all the tasks, create a GitHub repository for this assignment (you can use this repo later for the other assignments) and submit this notebook in the repository. Leave `requirements.txt` file if your code requires additional installations. Submit the link to the repository in Moodle.\n",
        "\n",
        "The [data](https://drive.google.com/file/d/15x_wPAflvYQ2Xh38iNQGrqUIWLj5l5Nw/view?usp=share_link) contains 5 files whereby each contains 44 tweets. Each tweet is separated by a newline."
      ]
    },
    {
      "cell_type": "markdown",
      "metadata": {
        "id": "aLDjjAvemUP_"
      },
      "source": [
        "## Task 1. Tokenize some tweets manually (20 points)\n",
        "\n",
        "As a first task you need to tokenize first 15 tweets from `file2` by hand. This will allow you to understand the problem from a linguistic point of view. The guidelines for tweet tokenization are as follows:\n",
        "\n",
        "- Each smiley is a separate token\n",
        "- Each hashtag is an individual token. Each user reference is an individual token\n",
        "- If a word has spaces between them then it is converted to a single token\n",
        "- All punctuations are individual tokens. This includes double-quotes and single quotes also\n",
        "- A URL is a single token\n",
        "\n",
        "Example of output\n",
        "\n",
        "    Input tweet\n",
        "    @xfranman Old age has made N A T O!\n",
        "\n",
        "    Tokenized tweet (separated by comma)\n",
        "    @xfranman , Old , age , has , made , NATO , !"
      ]
    },
    {
      "cell_type": "markdown",
      "source": [
        "    1. Input tweet\n",
        "    Camping in Maine for the weekend. Hey Dad, Mama Loves YOU: http://www.mamapalooza.com\n",
        "    1. Tokenized tweet\n",
        "    Camping , in , Maine , for , the , weekend , . ,  Hey , Dad , , , Mama , Loves , YOU , : , http://www.mamapalooza.com\n",
        "\n",
        "    2. Input tweet\n",
        "    Its american tradition bitch\n",
        "    2. Tokenized tweet\n",
        "    Its , american , tradition , bitch\n",
        "\n",
        "    3. Input tweet\n",
        "    @ThroughTheVoid They love it! The only pleasure they get in life. I actually do that. I'm sure I hear a tiny squeak... Then louder ones\n",
        "    3. Tokenized tweet\n",
        "    @ThroughTheVoid , They , love , it , ! , The , only , pleasure , they , get , in , life , . , I , actually , do , that , . , I , ' , m , sure , I , hear , a , tiny , squeak , ... , Then , louder , ones\n",
        "\n",
        "    4. Input tweet\n",
        "    \" RT @latti: @AbsoHilare stop tweeting in church! Lol <--- \"\"I tweet because I'm happy, I tweet because I'm free\"\" LOL!\"\n",
        "    4. Tokenized tweet\n",
        "    \" , RT , @latti , : , @AbsoHilare , stop , tweeting , in , church , ! , Lol , <--- , \" , \" , I , tweet , because , I , ' , m , happy, I , tweet , because , I , ' , m , free , \" , \" , LOL , ! , \"\n",
        "\n",
        "    5. Input tweet\n",
        "    Samsung Mini S2 portable HDD graced with colors that perfectly match your tacky beach gear: Sammy's done it aga.. http://tinyurl.com/lb5p6m\n",
        "    5. Tokenized tweet\n",
        "    Samsung , Mini , S2 , portable , HDD , graced , with , colors , that , perfectly , match , your , tacky , beach , gear , : , Sammy , ' , s , done ,  it , aga , . , . , http://tinyurl.com/lb5p6m\n",
        "    \n",
        "    6. Input tweet\n",
        "    @dialloc congrats on finding your way over. it may be slow going at first. hang in there. it's kinda cool when u get up to speed.\n",
        "    6. Tokenized tweet\n",
        "    @dialloc , congrats , on , finding , your , way , over , . , it , may , be , slow , going , at , first , . , hang , in , there , . , it , ' , s , kinda , cool , when , u , get , up , to , speed , .\n",
        "\n",
        "    7. Input tweet\n",
        "    iPhone activation delays continue, Apple offers $30 http://twt.gs/l3Ki\n",
        "    7. Tokenized tweet\n",
        "    iPhone , activation , delays , continue, , , Apple , offers , $30 , http://twt.gs/l3Ki\n",
        "\n",
        "    8. Input tweet\n",
        "    RT @GoogleAtWork Gmail maximum attachment size now 25MB http://bit.ly/62mjw Nice!!!\n",
        "    8. Tokenized tweet\n",
        "    RT , @GoogleAtWork , Gmail , maximum , attachment , size , now , 25MB , http://bit.ly/62mjw , Nice , ! , ! , !\n",
        "\n",
        "    9. Input tweet\n",
        "    RT @acfou The Ads Won Awards for Crispin; But Did Nothing for Client BurgerKing's Sales/Marketshare - Big Surprise - http://ping.fm/vw8TI\n",
        "    9. Tokenized tweet\n",
        "    RT , @acfou , The , Ads , Won , Awards , for , Crispin , ; , But , Did , Nothing , for , Client , BurgerKing , ' , s , Sales , / , Marketshare , - , Big , Surprise , - , http://ping.fm/vw8TI\n",
        "\n",
        "    10. Input tweet\n",
        "    Hey doll! Great I missed True Blood yday boo lol Rt @FrankBanuat78 @jhillstephens Hello Sunshine how are u today? :-)\n",
        "    10. Tokenized tweet\n",
        "    Hey , doll , ! , Great , I , missed , True , Blood , yday , boo , lol , Rt , @FrankBanuat78 , @jhillstephens , Hello , Sunshine , how are , u , today , ? , :-)\n",
        "\n",
        "    11. Input tweet\n",
        "    Australian artist Pogo made these free songs primarily from sampled audio from Alice In Wonderland. http://www.last.fm/music/Pogo/Wonderland\n",
        "    11. Tokenized tweet\n",
        "    Australian , artist , Pogo , made , these , free , songs , primarily , from , sampled , audio , from , Alice , In , Wonderland , . , http://www.last.fm/music/Pogo/Wonderland\n",
        "\n",
        "    12. Input tweet\n",
        "    @mppritchard they wanted to sell all the preorders & then sell all of the ones they had in stock to those that just walked in. Can't do both\n",
        "    12. Tokenized tweet\n",
        "    @mppritchard , they , wanted , to , sell , all , the , preorders , & , then , sell , all , of , the , ones , they , had , in , stock , to , those , that , just , walked , in , . , Can , ' , t , do , both\n",
        "\n",
        "    13. Input tweet\n",
        "    Incoming: Frightened Rabbit, Sept. 22 (Tucson): If Fat Cat Records is going to send three great bands from Scot.. http://tinyurl.com/nz6xcv\n",
        "    13. Tokenized tweet\n",
        "    Incoming , : , Frightened , Rabbit , , , Sept , . , 22 , ( , Tucson , ) , : , If , Fat , Cat , Records , is , going , to , send , three , great , bands , from , Scot , . , . , http://tinyurl.com/nz6xcv\n",
        "\n",
        "    14. Input tweet\n",
        "    Hey @ginoandfran please greet philip! (GinoandFran live > http://ustre.am/2YyQ)\n",
        "    14. Tokenized tweet\n",
        "    Hey , @ginoandfran , please , greet , philip , ! , ( , GinoandFran , live , > , http://ustre.am/2YyQ)\n",
        "\n",
        "    15. Input tweet\n",
        "    Ik weet niet wie er achter de T-Mobile iPhone Twitter zit maar ik vind het niet echt 'corporate' taalgebruik... Best vreemd eigenlijk\n",
        "    15. Tokenized tweet\n",
        "    Ik , weet , niet , wie , er , achter , de , T-Mobile , iPhone , Twitter , zit , maar , ik , vind , het , niet , echt , ' , corporate , ' , taalgebruik , ... , Best , vreemd , eigenlijk"
      ],
      "metadata": {
        "id": "xEz5hy659A_6"
      }
    },
    {
      "cell_type": "markdown",
      "metadata": {
        "id": "-2J2AD2nmUhi"
      },
      "source": [
        "## Task 2. Implement [Byte-Pair Encoding(BPE)](https://arxiv.org/pdf/1508.07909.pdf) Tokenizer (80 points)\n",
        "\n",
        "### Task 2.1. Implementation (60 points)\n",
        "\n",
        "Implement the tokenizer as the BPETokenizer class:\n",
        "* Implement `train` method that learns merges and builds the vocabulary of the specified `vocab_size` (25 points).\n",
        "* Implement `tokenize` method that should tokenize the text according to the learnt merges (25 points).\n",
        "\n",
        "Your code should have docstrings and comments (10 points)."
      ]
    },
    {
      "cell_type": "markdown",
      "source": [
        "Firstly, a note on implementation:\n",
        "\n",
        "Basic idea is taken from the [tutorial on Hugging face NLP course](https://huggingface.co/learn/nlp-course/en/chapter6/5), reusage of existing code is good practice if understanding the idea behind it"
      ],
      "metadata": {
        "id": "E2zMWi9DiPis"
      }
    },
    {
      "cell_type": "code",
      "execution_count": 5,
      "metadata": {
        "id": "b6xNj3_2kUQT"
      },
      "outputs": [],
      "source": [
        "from typing import List\n",
        "\n",
        "class BPETokenizer:\n",
        "\n",
        "    def __init__(self, vocab_size: int) -> None:\n",
        "        \"\"\"\n",
        "        Initialization method:\n",
        "\n",
        "        :vocab_size: is vocabulary size we want to achieve\n",
        "\n",
        "        vocab is basically current vocabulary,\n",
        "        merge_table keeps track of the order of the merges we made to extend the vocabulary\n",
        "        \"\"\"\n",
        "        self.vocab_size = vocab_size\n",
        "        self.vocab = set()\n",
        "        self.merge_table = {}\n",
        "\n",
        "    def train(self, corpus: List[str]) -> None:\n",
        "        \"\"\"\n",
        "        Public method to train the tokenizer on the corpus.\n",
        "\n",
        "        :corpus: the training corpus\n",
        "\n",
        "        firstly, we fill the vocabulary with all the symbols we have in the corpus\n",
        "        (not forgetting the EndOfString <EOS>)\n",
        "        then, we search for most common pairs of tokens from vocab iteratively,\n",
        "        merging them and putting merged to the merge table and as new token to vocabulary,\n",
        "        until we reach the desired size of vocabulary\n",
        "        \"\"\"\n",
        "        splits = self.prepare_splits(corpus)\n",
        "        for seq in corpus:\n",
        "            for ch in splits[seq]:\n",
        "                self.vocab.add(ch)\n",
        "        self.vocab = list(self.vocab)\n",
        "        while len(self.vocab) < self.vocab_size:\n",
        "            pairs, splits = self._get_pair_freqs(splits, corpus)\n",
        "            most_freq_pair = self._get_most_freq_pair(pairs)\n",
        "            if most_freq_pair is None:\n",
        "                break\n",
        "            splits = self._merge_pair(*most_freq_pair, splits, corpus)\n",
        "            self.merge_table[most_freq_pair] = ''.join(most_freq_pair)\n",
        "            self.vocab.append(''.join(most_freq_pair))\n",
        "        return self.vocab, self.merge_table\n",
        "\n",
        "    def _merge_pair(self, first, second, splits, corpus):\n",
        "        \"\"\"\n",
        "        Private method to merge the pair we found (the most common currently)\n",
        "        It searches for all the entries of this pair and replaces the pair with one merged token.\n",
        "        Then it returns splits, which is renewed list of splitted sentences (with new merged tokens).\n",
        "\n",
        "        :first: is first token in the pair we want to merge\n",
        "        :second: is second token in the pair we want to merge\n",
        "        :splits: is list of current splits of the sentences in our training corpus\n",
        "        :corpus: is our training corpus\n",
        "        \"\"\"\n",
        "        for seq in corpus:\n",
        "            split = splits[seq]\n",
        "            if len(split) == 1:\n",
        "                continue\n",
        "            i = 0\n",
        "            while i < len(split) - 1:\n",
        "                if split[i] == first and split[i + 1] == second:\n",
        "                    split = split[:i] + [first + second] + split[i + 2 :]\n",
        "                else:\n",
        "                    i += 1\n",
        "            splits[seq] = split\n",
        "        return splits\n",
        "\n",
        "    def prepare_seq(self, seq):\n",
        "        \"\"\"\n",
        "        auxiliary method to add the special symbol in the beginning of words which are not first in the sentence.\n",
        "        A good practice to distinguish new sentences and new words in our set\n",
        "\n",
        "        :seq: is sentence we want to modify\n",
        "        \"\"\"\n",
        "        return ' Ġ'.join(seq.split())\n",
        "\n",
        "    def prepare_splits(self, corpus):\n",
        "        \"\"\"\n",
        "        prepares a dictionary of splits of the sentences in our corpus.\n",
        "        adds <EOS> token to the end of each separate sentence.\n",
        "        returns initial split (one-symbol split)\n",
        "\n",
        "        :corpus: is training corpus to get splits for\n",
        "        \"\"\"\n",
        "        splits = {seq: [c for c in seq] + [\"<EOS>\"] for seq in corpus}\n",
        "        return splits\n",
        "\n",
        "    def _get_pair_freqs(self, splits, corpus):\n",
        "        \"\"\"\n",
        "        Private method to get frequencies of pairs of tokens in our corpus.\n",
        "        Used to then determine the most common (frequent) pair of tokens in our splitted sentences.\n",
        "\n",
        "        :splits: is current state of splitted of (how we currently tokenized) our sentences\n",
        "        :corpus: is training corpus\n",
        "        \"\"\"\n",
        "        pair_freqs = {}\n",
        "        for seq in corpus:\n",
        "            split = splits[seq]\n",
        "            if len(split) == 1:\n",
        "                continue\n",
        "            for i in range(len(split) - 1):\n",
        "                pair = (split[i], split[i + 1])\n",
        "                pair_freqs[pair] = pair_freqs.get(pair, 0) + 1\n",
        "        return pair_freqs, splits\n",
        "\n",
        "    def _get_most_freq_pair(self, pairs):\n",
        "        \"\"\"\n",
        "        Auxiliary method to get the most common (frequent) pair of tokens present in the splits.\n",
        "        Takes\n",
        "        :pairs: as parameter, which is a dicitonary of {(*pair): frequency} format,\n",
        "        obtained from _get_pair_freqs\n",
        "        \"\"\"\n",
        "        freq_mx = 0\n",
        "        pair_mx = None\n",
        "        for p in pairs:\n",
        "            f = pairs[p]\n",
        "            if f > freq_mx:\n",
        "                freq_mx = f\n",
        "                pair_mx = p\n",
        "        return pair_mx\n",
        "\n",
        "    def tokenize(self, text: str) -> List[str]:\n",
        "        \"\"\"\n",
        "        Public method which takes a string and tokenizes it\n",
        "\n",
        "        :text: is a single line (string) of text. Can contain several sentences, but must be string.\n",
        "\n",
        "        returns tokenized text\n",
        "        \"\"\"\n",
        "        split = self.prepare_splits([text])[text]\n",
        "        for p, merge in self.merge_table.items():\n",
        "            i = 0\n",
        "            while i < len(split) - 1:\n",
        "                if split[i] == p[0] and split[i + 1] == p[1]:\n",
        "                    split = split[:i] + [merge] + split[i + 2 :]\n",
        "                else:\n",
        "                    i += 1\n",
        "        return split\n"
      ]
    },
    {
      "cell_type": "markdown",
      "metadata": {
        "id": "PVmAX-HskUQU"
      },
      "source": [
        "### Task 2.2. Analysis on Tweets Dataset (10 points)\n",
        "\n",
        "Train the BPE tokenizer on the tweets dataset. Try to tokenize the tweets with the tokenizer of different `vocab_size`. For example, train the BPE tokenizer with `vocab_size` of [base_vocab_size, 250, 500, 750, 1000]. Plot the dependency of the average length of the tokenized tweet by `vocab_size` to analyze how `vocab_size` affects the length of the tokenized tweet on average. Tell what `vocab_size` is preferrable and why."
      ]
    },
    {
      "cell_type": "code",
      "source": [
        "import matplotlib.pyplot as plt"
      ],
      "metadata": {
        "id": "N3EvnWisdGIO"
      },
      "execution_count": 8,
      "outputs": []
    },
    {
      "cell_type": "code",
      "execution_count": 11,
      "metadata": {
        "id": "Av9DeCLbkUQU",
        "colab": {
          "base_uri": "https://localhost:8080/",
          "height": 634
        },
        "outputId": "aa5c0e07-79e6-4190-be84-867cb7da4742"
      },
      "outputs": [
        {
          "output_type": "stream",
          "name": "stdout",
          "text": [
            "Example: \n",
            "New blog post: Bells and whistles, sound the alarm - gut instinct passing through http://bit.ly/UscJR\n",
            " \n",
            " ['N', 'ew ', 'blo', 'g ', 'po', 'st', ': ', 'B', 'ell', 's and ', 'wh', 'ist', 'l', 'es', ', ', 's', 'oun', 'd the ', 'al', 'ar', 'm ', '- ', 'g', 'ut ', 'inst', 'in', 'c', 't ', 'p', 'ass', 'ing ', 'thr', 'ough', ' http://bit.ly/', 'U', 'sc', 'J', 'R', '\\n<EOS>']\n"
          ]
        },
        {
          "output_type": "display_data",
          "data": {
            "text/plain": [
              "<Figure size 1000x600 with 1 Axes>"
            ],
            "image/png": "[encoded data removed]"
          },
          "metadata": {}
        }
      ],
      "source": [
        "files = ['file1', 'file2', 'file3', 'file4', 'file5']\n",
        "corpus = []\n",
        "for fn in files:\n",
        "    with open(fn) as f:\n",
        "        corpus.extend(f.readlines())\n",
        "\n",
        "voc_size = [100, 250, 500, 750, 1000]\n",
        "mean_length = []\n",
        "for s in voc_size:\n",
        "    bpe = BPETokenizer(s)\n",
        "    v, m = bpe.train(corpus)\n",
        "    sumlen = 0\n",
        "    for seq in corpus:\n",
        "        sumlen += len(bpe.tokenize(seq))\n",
        "    sumlen /= len(corpus)\n",
        "    mean_length.append(sumlen)\n",
        "\n",
        "print(f'Example: \\n{corpus[100]} \\n {bpe.tokenize(corpus[100])}')\n",
        "plt.figure(figsize=(10,   6))\n",
        "plt.plot(voc_size, mean_length, '-o')\n",
        "plt.xlabel('Vocabulary size')\n",
        "plt.ylabel('Average length of tokenized tweet')\n",
        "plt.show()\n"
      ]
    },
    {
      "cell_type": "markdown",
      "source": [
        "The vocabulary size has tradeoff of detail understanding over proof for overfitting.\n",
        "\n",
        "The bigger the vocabulary size, the less tokens on average a sentence has, and more exact details are taken into account (more common sets of symbols). However, the bigger the voc size, the more our tokenizer prone to overfitting on the training dataset, meaning it will be less useful for unknown texts on inference.\n",
        "\n",
        "However, small vocabulary size may be not that efficient, keeping itself close to just splitting into one-symbol tokens. However, it will require less training time and will be less prone to overfitting, and will only merge most common small sets of tokens or general words (e.g. articles \"the\", etc.)\n",
        "\n",
        "Moderate voc size is the best for the beginning, and may be adjusted based on what we want to achieve further with the tokenization schema. In our case, I would personally choose vocab size near to 300-500, since it has quite good efficiency however is most proof against overmemorizing rare constructions (we can see on the graph that going further than 500 achieves less efficient decrease in mean tokenized sequence length)\n",
        "\n",
        "Thus, let us stick to 500 for our dataset of tweets."
      ],
      "metadata": {
        "id": "jRqJJ6Wvfu0j"
      }
    },
    {
      "cell_type": "markdown",
      "metadata": {
        "id": "LKeGOXzRkUQU"
      },
      "source": [
        "### Task 2.3. Analysis on Dataset of Different Language (10 points)\n",
        "\n",
        "Find a small dataset of texts in a language other than English. The dataset size should be not greater than several megabytes.\n",
        "\n",
        "Train the BPE tokenizer on the dataset that you found. Try to tokenize the sentences from this dataset with the tokenizer of different `vocab_size`. Plot the dependency of the average length of the tokenized sentence by `vocab_size` to analyze how `vocab_size` affects the length of the tokenized sentence on average.\n",
        "\n",
        "Tell how how the average length of the tokenized sentence differs from the average length of the tokenized tweet. Explain why."
      ]
    },
    {
      "cell_type": "markdown",
      "source": [
        "I have chosen a dataset of deutch dialogues, namely from here: [link](https://github.com/antnbaranov/NLP_Dataset_Germany/tree/main)\n",
        "\n",
        "But we will use 1/50 of this dataset, since it is 50+MB size (it will be nearly enough to have 1MB of text for this task)\n",
        "\n",
        "Let us try and see what we can achieve!"
      ],
      "metadata": {
        "id": "e1A2DSVihc7_"
      }
    },
    {
      "cell_type": "code",
      "source": [
        "from tqdm.notebook import tqdm"
      ],
      "metadata": {
        "id": "rXDXoL9fjk6u"
      },
      "execution_count": 20,
      "outputs": []
    },
    {
      "cell_type": "code",
      "execution_count": 23,
      "metadata": {
        "id": "b15m7pP_kUQV",
        "colab": {
          "base_uri": "https://localhost:8080/",
          "height": 646,
          "referenced_widgets": [
            "53494d77f39549439f372b02c5c768d4",
            "d1ae49fcf29b49a09bdbcdcac21a8213",
            "91e3f4345f3c49a89f0693b381844226",
            "0c9c424073d2486992d369fe3fad3e03",
            "2f35242eb22e43ecafcffa16311a5261",
            "4da2996440684e2d96feaf58a3ee912a",
            "42dda662d3314af9b807c8ca6d3406fb",
            "15f4f6cdb31a4dcdbe9bf8020475d1f5",
            "0bb69a9d98674ad1a3c0aabbe3353423",
            "9859c75284cf489289a7dd24b7ac7c18",
            "3827c0f9c167443eb9a1138d57792d97"
          ]
        },
        "outputId": "1bfbb236-21d0-4880-b3fb-0ea9fb4ba72a"
      },
      "outputs": [
        {
          "output_type": "display_data",
          "data": {
            "text/plain": [
              "  0%|          | 0/4 [00:00<?, ?it/s]"
            ],
            "application/vnd.jupyter.widget-view+json": {
              "version_major": 2,
              "version_minor": 0,
              "model_id": "53494d77f39549439f372b02c5c768d4"
            }
          },
          "metadata": {}
        },
        {
          "output_type": "stream",
          "name": "stdout",
          "text": [
            "Example: \n",
            "\n",
            " \n",
            " ['\\n<EOS>']\n"
          ]
        },
        {
          "output_type": "display_data",
          "data": {
            "text/plain": [
              "<Figure size 1000x600 with 1 Axes>"
            ],
            "image/png": "[encoded data removed]"
          },
          "metadata": {}
        }
      ],
      "source": [
        "deutch = []\n",
        "with open('textresult.txt') as f:\n",
        "    deutch.extend(f.readlines())\n",
        "\n",
        "deutch = deutch[:len(deutch) // 50]\n",
        "\n",
        "voc_size = [100, 250, 500, 750]\n",
        "mean_lengthd = []\n",
        "for s in tqdm(voc_size):\n",
        "    bped = BPETokenizer(s)\n",
        "    v, m = bped.train(deutch)\n",
        "    sumlen = 0\n",
        "    for seq in deutch:\n",
        "        sumlen += len(bped.tokenize(seq))\n",
        "    sumlen /= len(deutch)\n",
        "    mean_lengthd.append(sumlen)\n",
        "\n",
        "print(f'Example: \\n{deutch[100]} \\n {bped.tokenize(deutch[100])}')\n",
        "plt.figure(figsize=(10,   6))\n",
        "plt.plot(voc_size, mean_lengthd, '-o')\n",
        "plt.xlabel('Vocabulary size')\n",
        "plt.ylabel('Average length of tokenized tweet')\n",
        "plt.show()\n"
      ]
    },
    {
      "cell_type": "code",
      "source": [
        "print(f'Better example: \\n{deutch[50]} \\n {bped.tokenize(deutch[50])}')"
      ],
      "metadata": {
        "colab": {
          "base_uri": "https://localhost:8080/"
        },
        "id": "AO7sSKXBr9pJ",
        "outputId": "6fc5571a-4768-48b5-e87b-7d9ef013403d"
      },
      "execution_count": 26,
      "outputs": [
        {
          "output_type": "stream",
          "name": "stdout",
          "text": [
            "Better example: \n",
            "- Verdammter Kagebeshnik!\n",
            " \n",
            " ['- Ver', 'damm', 'ter ', 'K', 'a', 'geb', 'es', 'h', 'n', 'ik', '!\\n<EOS>']\n"
          ]
        }
      ]
    },
    {
      "cell_type": "markdown",
      "source": [
        "Seems that we will want to stick to a smaller vocab size.\n",
        "\n",
        "Due to nature of dialogues (short sentences most usually), the average length of one tokenized line is smaller than the tweet's one, however BPE also helps to achieve better tokenization with moderate vocabulary size"
      ],
      "metadata": {
        "id": "sIZbFTr0r6VW"
      }
    },
    {
      "cell_type": "markdown",
      "source": [
        "This was basically it with BPE tokenizer practice.\n",
        "\n",
        "### Thanks for attention!"
      ],
      "metadata": {
        "id": "yQFGBb16sl-x"
      }
    }
  ],
  "metadata": {
    "colab": {
      "provenance": []
    },
    "kernelspec": {
      "display_name": "Python 3",
      "name": "python3"
    },
    "language_info": {
      "name": "python"
    },
    "widgets": {
      "application/vnd.jupyter.widget-state+json": {
        "53494d77f39549439f372b02c5c768d4": {
          "model_module": "@jupyter-widgets/controls",
          "model_name": "HBoxModel",
          "model_module_version": "1.5.0",
          "state": {
            "_dom_classes": [],
            "_model_module": "@jupyter-widgets/controls",
            "_model_module_version": "1.5.0",
            "_model_name": "HBoxModel",
            "_view_count": null,
            "_view_module": "@jupyter-widgets/controls",
            "_view_module_version": "1.5.0",
            "_view_name": "HBoxView",
            "box_style": "",
            "children": [
              "IPY_MODEL_d1ae49fcf29b49a09bdbcdcac21a8213",
              "IPY_MODEL_91e3f4345f3c49a89f0693b381844226",
              "IPY_MODEL_0c9c424073d2486992d369fe3fad3e03"
            ],
            "layout": "IPY_MODEL_2f35242eb22e43ecafcffa16311a5261"
          }
        },
        "d1ae49fcf29b49a09bdbcdcac21a8213": {
          "model_module": "@jupyter-widgets/controls",
          "model_name": "HTMLModel",
          "model_module_version": "1.5.0",
          "state": {
            "_dom_classes": [],
            "_model_module": "@jupyter-widgets/controls",
            "_model_module_version": "1.5.0",
            "_model_name": "HTMLModel",
            "_view_count": null,
            "_view_module": "@jupyter-widgets/controls",
            "_view_module_version": "1.5.0",
            "_view_name": "HTMLView",
            "description": "",
            "description_tooltip": null,
            "layout": "IPY_MODEL_4da2996440684e2d96feaf58a3ee912a",
            "placeholder": "​",
            "style": "IPY_MODEL_42dda662d3314af9b807c8ca6d3406fb",
            "value": "100%"
          }
        },
        "91e3f4345f3c49a89f0693b381844226": {
          "model_module": "@jupyter-widgets/controls",
          "model_name": "FloatProgressModel",
          "model_module_version": "1.5.0",
          "state": {
            "_dom_classes": [],
            "_model_module": "@jupyter-widgets/controls",
            "_model_module_version": "1.5.0",
            "_model_name": "FloatProgressModel",
            "_view_count": null,
            "_view_module": "@jupyter-widgets/controls",
            "_view_module_version": "1.5.0",
            "_view_name": "ProgressView",
            "bar_style": "success",
            "description": "",
            "description_tooltip": null,
            "layout": "IPY_MODEL_15f4f6cdb31a4dcdbe9bf8020475d1f5",
            "max": 4,
            "min": 0,
            "orientation": "horizontal",
            "style": "IPY_MODEL_0bb69a9d98674ad1a3c0aabbe3353423",
            "value": 4
          }
        },
        "0c9c424073d2486992d369fe3fad3e03": {
          "model_module": "@jupyter-widgets/controls",
          "model_name": "HTMLModel",
          "model_module_version": "1.5.0",
          "state": {
            "_dom_classes": [],
            "_model_module": "@jupyter-widgets/controls",
            "_model_module_version": "1.5.0",
            "_model_name": "HTMLModel",
            "_view_count": null,
            "_view_module": "@jupyter-widgets/controls",
            "_view_module_version": "1.5.0",
            "_view_name": "HTMLView",
            "description": "",
            "description_tooltip": null,
            "layout": "IPY_MODEL_9859c75284cf489289a7dd24b7ac7c18",
            "placeholder": "​",
            "style": "IPY_MODEL_3827c0f9c167443eb9a1138d57792d97",
            "value": " 4/4 [10:40&lt;00:00, 209.30s/it]"
          }
        },
        "2f35242eb22e43ecafcffa16311a5261": {
          "model_module": "@jupyter-widgets/base",
          "model_name": "LayoutModel",
          "model_module_version": "1.2.0",
          "state": {
            "_model_module": "@jupyter-widgets/base",
            "_model_module_version": "1.2.0",
            "_model_name": "LayoutModel",
            "_view_count": null,
            "_view_module": "@jupyter-widgets/base",
            "_view_module_version": "1.2.0",
            "_view_name": "LayoutView",
            "align_content": null,
            "align_items": null,
            "align_self": null,
            "border": null,
            "bottom": null,
            "display": null,
            "flex": null,
            "flex_flow": null,
            "grid_area": null,
            "grid_auto_columns": null,
            "grid_auto_flow": null,
            "grid_auto_rows": null,
            "grid_column": null,
            "grid_gap": null,
            "grid_row": null,
            "grid_template_areas": null,
            "grid_template_columns": null,
            "grid_template_rows": null,
            "height": null,
            "justify_content": null,
            "justify_items": null,
            "left": null,
            "margin": null,
            "max_height": null,
            "max_width": null,
            "min_height": null,
            "min_width": null,
            "object_fit": null,
            "object_position": null,
            "order": null,
            "overflow": null,
            "overflow_x": null,
            "overflow_y": null,
            "padding": null,
            "right": null,
            "top": null,
            "visibility": null,
            "width": null
          }
        },
        "4da2996440684e2d96feaf58a3ee912a": {
          "model_module": "@jupyter-widgets/base",
          "model_name": "LayoutModel",
          "model_module_version": "1.2.0",
          "state": {
            "_model_module": "@jupyter-widgets/base",
            "_model_module_version": "1.2.0",
            "_model_name": "LayoutModel",
            "_view_count": null,
            "_view_module": "@jupyter-widgets/base",
            "_view_module_version": "1.2.0",
            "_view_name": "LayoutView",
            "align_content": null,
            "align_items": null,
            "align_self": null,
            "border": null,
            "bottom": null,
            "display": null,
            "flex": null,
            "flex_flow": null,
            "grid_area": null,
            "grid_auto_columns": null,
            "grid_auto_flow": null,
            "grid_auto_rows": null,
            "grid_column": null,
            "grid_gap": null,
            "grid_row": null,
            "grid_template_areas": null,
            "grid_template_columns": null,
            "grid_template_rows": null,
            "height": null,
            "justify_content": null,
            "justify_items": null,
            "left": null,
            "margin": null,
            "max_height": null,
            "max_width": null,
            "min_height": null,
            "min_width": null,
            "object_fit": null,
            "object_position": null,
            "order": null,
            "overflow": null,
            "overflow_x": null,
            "overflow_y": null,
            "padding": null,
            "right": null,
            "top": null,
            "visibility": null,
            "width": null
          }
        },
        "42dda662d3314af9b807c8ca6d3406fb": {
          "model_module": "@jupyter-widgets/controls",
          "model_name": "DescriptionStyleModel",
          "model_module_version": "1.5.0",
          "state": {
            "_model_module": "@jupyter-widgets/controls",
            "_model_module_version": "1.5.0",
            "_model_name": "DescriptionStyleModel",
            "_view_count": null,
            "_view_module": "@jupyter-widgets/base",
            "_view_module_version": "1.2.0",
            "_view_name": "StyleView",
            "description_width": ""
          }
        },
        "15f4f6cdb31a4dcdbe9bf8020475d1f5": {
          "model_module": "@jupyter-widgets/base",
          "model_name": "LayoutModel",
          "model_module_version": "1.2.0",
          "state": {
            "_model_module": "@jupyter-widgets/base",
            "_model_module_version": "1.2.0",
            "_model_name": "LayoutModel",
            "_view_count": null,
            "_view_module": "@jupyter-widgets/base",
            "_view_module_version": "1.2.0",
            "_view_name": "LayoutView",
            "align_content": null,
            "align_items": null,
            "align_self": null,
            "border": null,
            "bottom": null,
            "display": null,
            "flex": null,
            "flex_flow": null,
            "grid_area": null,
            "grid_auto_columns": null,
            "grid_auto_flow": null,
            "grid_auto_rows": null,
            "grid_column": null,
            "grid_gap": null,
            "grid_row": null,
            "grid_template_areas": null,
            "grid_template_columns": null,
            "grid_template_rows": null,
            "height": null,
            "justify_content": null,
            "justify_items": null,
            "left": null,
            "margin": null,
            "max_height": null,
            "max_width": null,
            "min_height": null,
            "min_width": null,
            "object_fit": null,
            "object_position": null,
            "order": null,
            "overflow": null,
            "overflow_x": null,
            "overflow_y": null,
            "padding": null,
            "right": null,
            "top": null,
            "visibility": null,
            "width": null
          }
        },
        "0bb69a9d98674ad1a3c0aabbe3353423": {
          "model_module": "@jupyter-widgets/controls",
          "model_name": "ProgressStyleModel",
          "model_module_version": "1.5.0",
          "state": {
            "_model_module": "@jupyter-widgets/controls",
            "_model_module_version": "1.5.0",
            "_model_name": "ProgressStyleModel",
            "_view_count": null,
            "_view_module": "@jupyter-widgets/base",
            "_view_module_version": "1.2.0",
            "_view_name": "StyleView",
            "bar_color": null,
            "description_width": ""
          }
        },
        "9859c75284cf489289a7dd24b7ac7c18": {
          "model_module": "@jupyter-widgets/base",
          "model_name": "LayoutModel",
          "model_module_version": "1.2.0",
          "state": {
            "_model_module": "@jupyter-widgets/base",
            "_model_module_version": "1.2.0",
            "_model_name": "LayoutModel",
            "_view_count": null,
            "_view_module": "@jupyter-widgets/base",
            "_view_module_version": "1.2.0",
            "_view_name": "LayoutView",
            "align_content": null,
            "align_items": null,
            "align_self": null,
            "border": null,
            "bottom": null,
            "display": null,
            "flex": null,
            "flex_flow": null,
            "grid_area": null,
            "grid_auto_columns": null,
            "grid_auto_flow": null,
            "grid_auto_rows": null,
            "grid_column": null,
            "grid_gap": null,
            "grid_row": null,
            "grid_template_areas": null,
            "grid_template_columns": null,
            "grid_template_rows": null,
            "height": null,
            "justify_content": null,
            "justify_items": null,
            "left": null,
            "margin": null,
            "max_height": null,
            "max_width": null,
            "min_height": null,
            "min_width": null,
            "object_fit": null,
            "object_position": null,
            "order": null,
            "overflow": null,
            "overflow_x": null,
            "overflow_y": null,
            "padding": null,
            "right": null,
            "top": null,
            "visibility": null,
            "width": null
          }
        },
        "3827c0f9c167443eb9a1138d57792d97": {
          "model_module": "@jupyter-widgets/controls",
          "model_name": "DescriptionStyleModel",
          "model_module_version": "1.5.0",
          "state": {
            "_model_module": "@jupyter-widgets/controls",
            "_model_module_version": "1.5.0",
            "_model_name": "DescriptionStyleModel",
            "_view_count": null,
            "_view_module": "@jupyter-widgets/base",
            "_view_module_version": "1.2.0",
            "_view_name": "StyleView",
            "description_width": ""
          }
        }
      }
    }
  },
  "nbformat": 4,
  "nbformat_minor": 0
}